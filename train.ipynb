{
  "nbformat": 4,
  "nbformat_minor": 0,
  "metadata": {
    "colab": {
      "name": "Untitled2.ipynb",
      "provenance": [],
      "collapsed_sections": []
    },
    "kernelspec": {
      "name": "python3",
      "display_name": "Python 3"
    },
    "language_info": {
      "name": "python"
    },
    "accelerator": "GPU"
  },
  "cells": [
    {
      "cell_type": "code",
      "execution_count": 14,
      "metadata": {
        "id": "MB_pZxsogmlP"
      },
      "outputs": [],
      "source": [
        "import torch\n",
        "from torchsummary import summary\n",
        "from tqdm import tqdm\n",
        "import matplotlib.pyplot as plt\n",
        "\n",
        "from DatasetFetcher import DatasetFetcher\n",
        "from project1_model import ResNet, BasicBlock"
      ]
    },
    {
      "cell_type": "code",
      "source": [
        "# Check available device\n",
        "device = torch.device(\"cuda\" if torch.cuda.is_available() else \"cpu\")\n"
      ],
      "metadata": {
        "id": "pRQ5htP-g7Fo"
      },
      "execution_count": 15,
      "outputs": []
    },
    {
      "cell_type": "code",
      "source": [
        "# Fetching Dataset\n",
        "df = DatasetFetcher(dataset=\"CIFAR10\", batch_size=64)\n",
        "df.addHorizontalFlipping()\n",
        "df.addRandomCrop(size=32, padding=3)\n",
        "df.addNormalizer()\n",
        "trainLoader, testLoader = df.getLoaders()"
      ],
      "metadata": {
        "colab": {
          "base_uri": "https://localhost:8080/"
        },
        "id": "1tBnol3Mg-ne",
        "outputId": "ba4aa592-d80d-4fdb-eb0d-aa6078e98838"
      },
      "execution_count": 16,
      "outputs": [
        {
          "output_type": "stream",
          "name": "stdout",
          "text": [
            "Initializing fetching CIFAR10 dataset using torchvision\n",
            "Files already downloaded and verified\n",
            "Files already downloaded and verified\n",
            "Files already downloaded and verified\n"
          ]
        }
      ]
    },
    {
      "cell_type": "code",
      "source": [
        "for x, y in trainLoader:\n",
        "    print(x.shape)\n",
        "    break"
      ],
      "metadata": {
        "colab": {
          "base_uri": "https://localhost:8080/"
        },
        "id": "R-IZo2AdhAzv",
        "outputId": "5df41893-855e-416d-d83a-cf7036604942"
      },
      "execution_count": 17,
      "outputs": [
        {
          "output_type": "stream",
          "name": "stdout",
          "text": [
            "torch.Size([64, 3, 32, 32])\n"
          ]
        }
      ]
    },
    {
      "cell_type": "code",
      "source": [
        "# Get Model\n",
        "model = ResNet(BasicBlock, 42, 4, [2, 2, 2, 2])\n",
        "model = model.to(device)\n",
        "print(summary(model, input_size=(3, 32, 32)))"
      ],
      "metadata": {
        "colab": {
          "base_uri": "https://localhost:8080/"
        },
        "id": "kywShdqYhEAC",
        "outputId": "6e8ef916-6d09-48d2-9d1b-0aba95aa679a"
      },
      "execution_count": 18,
      "outputs": [
        {
          "output_type": "stream",
          "name": "stdout",
          "text": [
            "----------------------------------------------------------------\n",
            "        Layer (type)               Output Shape         Param #\n",
            "================================================================\n",
            "            Conv2d-1           [-1, 42, 32, 32]           1,176\n",
            "       BatchNorm2d-2           [-1, 42, 32, 32]              84\n",
            "            Conv2d-3           [-1, 42, 32, 32]          15,918\n",
            "       BatchNorm2d-4           [-1, 42, 32, 32]              84\n",
            "            Conv2d-5           [-1, 42, 32, 32]          15,918\n",
            "       BatchNorm2d-6           [-1, 42, 32, 32]              84\n",
            "        BasicBlock-7           [-1, 42, 32, 32]               0\n",
            "            Conv2d-8           [-1, 42, 32, 32]          15,918\n",
            "       BatchNorm2d-9           [-1, 42, 32, 32]              84\n",
            "           Conv2d-10           [-1, 42, 32, 32]          15,918\n",
            "      BatchNorm2d-11           [-1, 42, 32, 32]              84\n",
            "       BasicBlock-12           [-1, 42, 32, 32]               0\n",
            "           Conv2d-13           [-1, 84, 16, 16]          31,836\n",
            "      BatchNorm2d-14           [-1, 84, 16, 16]             168\n",
            "           Conv2d-15           [-1, 84, 16, 16]          63,588\n",
            "      BatchNorm2d-16           [-1, 84, 16, 16]             168\n",
            "           Conv2d-17           [-1, 84, 16, 16]           3,612\n",
            "      BatchNorm2d-18           [-1, 84, 16, 16]             168\n",
            "       BasicBlock-19           [-1, 84, 16, 16]               0\n",
            "           Conv2d-20           [-1, 84, 16, 16]          63,588\n",
            "      BatchNorm2d-21           [-1, 84, 16, 16]             168\n",
            "           Conv2d-22           [-1, 84, 16, 16]          63,588\n",
            "      BatchNorm2d-23           [-1, 84, 16, 16]             168\n",
            "       BasicBlock-24           [-1, 84, 16, 16]               0\n",
            "           Conv2d-25            [-1, 168, 8, 8]         127,176\n",
            "      BatchNorm2d-26            [-1, 168, 8, 8]             336\n",
            "           Conv2d-27            [-1, 168, 8, 8]         254,184\n",
            "      BatchNorm2d-28            [-1, 168, 8, 8]             336\n",
            "           Conv2d-29            [-1, 168, 8, 8]          14,280\n",
            "      BatchNorm2d-30            [-1, 168, 8, 8]             336\n",
            "       BasicBlock-31            [-1, 168, 8, 8]               0\n",
            "           Conv2d-32            [-1, 168, 8, 8]         254,184\n",
            "      BatchNorm2d-33            [-1, 168, 8, 8]             336\n",
            "           Conv2d-34            [-1, 168, 8, 8]         254,184\n",
            "      BatchNorm2d-35            [-1, 168, 8, 8]             336\n",
            "       BasicBlock-36            [-1, 168, 8, 8]               0\n",
            "           Conv2d-37            [-1, 336, 4, 4]         508,368\n",
            "      BatchNorm2d-38            [-1, 336, 4, 4]             672\n",
            "           Conv2d-39            [-1, 336, 4, 4]       1,016,400\n",
            "      BatchNorm2d-40            [-1, 336, 4, 4]             672\n",
            "           Conv2d-41            [-1, 336, 4, 4]          56,784\n",
            "      BatchNorm2d-42            [-1, 336, 4, 4]             672\n",
            "       BasicBlock-43            [-1, 336, 4, 4]               0\n",
            "           Conv2d-44            [-1, 336, 4, 4]       1,016,400\n",
            "      BatchNorm2d-45            [-1, 336, 4, 4]             672\n",
            "           Conv2d-46            [-1, 336, 4, 4]       1,016,400\n",
            "      BatchNorm2d-47            [-1, 336, 4, 4]             672\n",
            "       BasicBlock-48            [-1, 336, 4, 4]               0\n",
            "           Linear-49                   [-1, 10]           3,370\n",
            "================================================================\n",
            "Total params: 4,819,090\n",
            "Trainable params: 4,819,090\n",
            "Non-trainable params: 0\n",
            "----------------------------------------------------------------\n",
            "Input size (MB): 0.01\n",
            "Forward/backward pass size (MB): 7.38\n",
            "Params size (MB): 18.38\n",
            "Estimated Total Size (MB): 25.78\n",
            "----------------------------------------------------------------\n",
            "None\n"
          ]
        }
      ]
    },
    {
      "cell_type": "code",
      "source": [
        "# Defining Loss Function, Learning Rate, Weight Decay, Optimizer) \n",
        "lossFunction = torch.nn.CrossEntropyLoss()\n",
        "learningRate = 0.1\n",
        "weightDecay = 0.0001\n",
        "#optimizer = torch.optim.Adam(model.parameters(), lr=learningRate, weight_decay=weightDecay)\n",
        "#optimizer = torch.optim.Adagrad(model.parameters(), lr=learningRate, weight_decay=weightDecay)\n",
        "optimizer = torch.optim.Adadelta(model.parameters(), lr=learningRate, weight_decay=weightDecay)\n",
        "print(model.eval())\n",
        "trainable_parameters = sum(p.numel() for p in model.parameters() if p.requires_grad)\n",
        "print(\"Total Trainable Parameters : %s\"%(trainable_parameters))\n",
        "if trainable_parameters > 5*(10**6):\n",
        "    raise Exception(\"Model not under budget!\")"
      ],
      "metadata": {
        "colab": {
          "base_uri": "https://localhost:8080/"
        },
        "id": "rpgfNXlehLYu",
        "outputId": "586dc6d6-a45f-4d1b-f04b-e4676a603e40"
      },
      "execution_count": 19,
      "outputs": [
        {
          "output_type": "stream",
          "name": "stdout",
          "text": [
            "ResNet(\n",
            "  (conv1): Conv2d(3, 42, kernel_size=(3, 3), stride=(1, 1), padding=(1, 1))\n",
            "  (bn1): BatchNorm2d(42, eps=1e-05, momentum=0.1, affine=True, track_running_stats=True)\n",
            "  (layer1): Sequential(\n",
            "    (0): BasicBlock(\n",
            "      (conv1): Conv2d(42, 42, kernel_size=(3, 3), stride=(1, 1), padding=(1, 1))\n",
            "      (bn1): BatchNorm2d(42, eps=1e-05, momentum=0.1, affine=True, track_running_stats=True)\n",
            "      (conv2): Conv2d(42, 42, kernel_size=(3, 3), stride=(1, 1), padding=(1, 1))\n",
            "      (bn2): BatchNorm2d(42, eps=1e-05, momentum=0.1, affine=True, track_running_stats=True)\n",
            "      (shortcut): Sequential()\n",
            "    )\n",
            "    (1): BasicBlock(\n",
            "      (conv1): Conv2d(42, 42, kernel_size=(3, 3), stride=(1, 1), padding=(1, 1))\n",
            "      (bn1): BatchNorm2d(42, eps=1e-05, momentum=0.1, affine=True, track_running_stats=True)\n",
            "      (conv2): Conv2d(42, 42, kernel_size=(3, 3), stride=(1, 1), padding=(1, 1))\n",
            "      (bn2): BatchNorm2d(42, eps=1e-05, momentum=0.1, affine=True, track_running_stats=True)\n",
            "      (shortcut): Sequential()\n",
            "    )\n",
            "  )\n",
            "  (layer2): Sequential(\n",
            "    (0): BasicBlock(\n",
            "      (conv1): Conv2d(42, 84, kernel_size=(3, 3), stride=(2, 2), padding=(1, 1))\n",
            "      (bn1): BatchNorm2d(84, eps=1e-05, momentum=0.1, affine=True, track_running_stats=True)\n",
            "      (conv2): Conv2d(84, 84, kernel_size=(3, 3), stride=(1, 1), padding=(1, 1))\n",
            "      (bn2): BatchNorm2d(84, eps=1e-05, momentum=0.1, affine=True, track_running_stats=True)\n",
            "      (shortcut): Sequential(\n",
            "        (0): Conv2d(42, 84, kernel_size=(1, 1), stride=(2, 2))\n",
            "        (1): BatchNorm2d(84, eps=1e-05, momentum=0.1, affine=True, track_running_stats=True)\n",
            "      )\n",
            "    )\n",
            "    (1): BasicBlock(\n",
            "      (conv1): Conv2d(84, 84, kernel_size=(3, 3), stride=(1, 1), padding=(1, 1))\n",
            "      (bn1): BatchNorm2d(84, eps=1e-05, momentum=0.1, affine=True, track_running_stats=True)\n",
            "      (conv2): Conv2d(84, 84, kernel_size=(3, 3), stride=(1, 1), padding=(1, 1))\n",
            "      (bn2): BatchNorm2d(84, eps=1e-05, momentum=0.1, affine=True, track_running_stats=True)\n",
            "      (shortcut): Sequential()\n",
            "    )\n",
            "  )\n",
            "  (layer3): Sequential(\n",
            "    (0): BasicBlock(\n",
            "      (conv1): Conv2d(84, 168, kernel_size=(3, 3), stride=(2, 2), padding=(1, 1))\n",
            "      (bn1): BatchNorm2d(168, eps=1e-05, momentum=0.1, affine=True, track_running_stats=True)\n",
            "      (conv2): Conv2d(168, 168, kernel_size=(3, 3), stride=(1, 1), padding=(1, 1))\n",
            "      (bn2): BatchNorm2d(168, eps=1e-05, momentum=0.1, affine=True, track_running_stats=True)\n",
            "      (shortcut): Sequential(\n",
            "        (0): Conv2d(84, 168, kernel_size=(1, 1), stride=(2, 2))\n",
            "        (1): BatchNorm2d(168, eps=1e-05, momentum=0.1, affine=True, track_running_stats=True)\n",
            "      )\n",
            "    )\n",
            "    (1): BasicBlock(\n",
            "      (conv1): Conv2d(168, 168, kernel_size=(3, 3), stride=(1, 1), padding=(1, 1))\n",
            "      (bn1): BatchNorm2d(168, eps=1e-05, momentum=0.1, affine=True, track_running_stats=True)\n",
            "      (conv2): Conv2d(168, 168, kernel_size=(3, 3), stride=(1, 1), padding=(1, 1))\n",
            "      (bn2): BatchNorm2d(168, eps=1e-05, momentum=0.1, affine=True, track_running_stats=True)\n",
            "      (shortcut): Sequential()\n",
            "    )\n",
            "  )\n",
            "  (layer4): Sequential(\n",
            "    (0): BasicBlock(\n",
            "      (conv1): Conv2d(168, 336, kernel_size=(3, 3), stride=(2, 2), padding=(1, 1))\n",
            "      (bn1): BatchNorm2d(336, eps=1e-05, momentum=0.1, affine=True, track_running_stats=True)\n",
            "      (conv2): Conv2d(336, 336, kernel_size=(3, 3), stride=(1, 1), padding=(1, 1))\n",
            "      (bn2): BatchNorm2d(336, eps=1e-05, momentum=0.1, affine=True, track_running_stats=True)\n",
            "      (shortcut): Sequential(\n",
            "        (0): Conv2d(168, 336, kernel_size=(1, 1), stride=(2, 2))\n",
            "        (1): BatchNorm2d(336, eps=1e-05, momentum=0.1, affine=True, track_running_stats=True)\n",
            "      )\n",
            "    )\n",
            "    (1): BasicBlock(\n",
            "      (conv1): Conv2d(336, 336, kernel_size=(3, 3), stride=(1, 1), padding=(1, 1))\n",
            "      (bn1): BatchNorm2d(336, eps=1e-05, momentum=0.1, affine=True, track_running_stats=True)\n",
            "      (conv2): Conv2d(336, 336, kernel_size=(3, 3), stride=(1, 1), padding=(1, 1))\n",
            "      (bn2): BatchNorm2d(336, eps=1e-05, momentum=0.1, affine=True, track_running_stats=True)\n",
            "      (shortcut): Sequential()\n",
            "    )\n",
            "  )\n",
            "  (linear): Linear(in_features=336, out_features=10, bias=True)\n",
            ")\n",
            "Total Trainable Parameters : 4819090\n"
          ]
        }
      ]
    },
    {
      "cell_type": "code",
      "source": [
        "# Setting up training\n",
        "EPOCHS=30\n",
        "globalBestAccuracy = 0.0\n",
        "trainingLoss = []\n",
        "testingLoss = []\n",
        "trainingAccuracy = []\n",
        "testingAccuracy = []"
      ],
      "metadata": {
        "id": "BFP2NzdRhHkl"
      },
      "execution_count": 20,
      "outputs": []
    },
    {
      "cell_type": "code",
      "source": [
        "# Training\n",
        "for i in tqdm(range(EPOCHS)):\n",
        "    for phase in ['train', 'test']:\n",
        "        if phase == \"train\":\n",
        "            loader = trainLoader\n",
        "            model.train()\n",
        "            optimizer.zero_grad()\n",
        "        else:\n",
        "            loader = testLoader\n",
        "            model.eval()\n",
        "        runningLoss = 0.0\n",
        "        runningCorrects = 0\n",
        "        for images, labels in loader:\n",
        "            images = images.to(device)\n",
        "            labels = labels.to(device)\n",
        "            output = model(images)\n",
        "            loss = lossFunction(output, labels)\n",
        "            predicted_labels = torch.argmax(output, dim=1)\n",
        "            runningLoss = loss.item()*images.size(0)\n",
        "            runningCorrects += torch.sum(predicted_labels == labels).float().item()\n",
        "            if phase == \"train\":\n",
        "                loss.backward()\n",
        "                optimizer.step()\n",
        "        epochLoss = runningLoss/len(loader.dataset)\n",
        "        epochAccuracy = runningCorrects/len(loader.dataset)\n",
        "        if phase == \"train\":\n",
        "            trainingLoss.append(epochLoss)\n",
        "            trainingAccuracy.append(epochAccuracy)\n",
        "        else:\n",
        "            testingLoss.append(epochLoss)\n",
        "            testingAccuracy.append(epochAccuracy)\n",
        "            if epochAccuracy > globalBestAccuracy:\n",
        "                globalBestAccuracy = epochAccuracy\n",
        "                model.saveToDisk()\n",
        "    print(\"Training Loss : %s, Testing Loss : %s, Training Accuracy : %s, Testing Accuracy : %s\"\\\n",
        "          %(trainingLoss[-1], testingLoss[-1], trainingAccuracy[-1], testingAccuracy[-1]))"
      ],
      "metadata": {
        "colab": {
          "base_uri": "https://localhost:8080/"
        },
        "id": "GnLWw1p_hUCV",
        "outputId": "04ecd26d-caf9-42d0-a1ce-c66091ae2a20"
      },
      "execution_count": 21,
      "outputs": [
        {
          "output_type": "stream",
          "name": "stderr",
          "text": [
            "  3%|▎         | 1/30 [00:37<18:18, 37.86s/it]"
          ]
        },
        {
          "output_type": "stream",
          "name": "stdout",
          "text": [
            "Training Loss : 0.0005100955200195312, Testing Loss : 0.001979728126525879, Training Accuracy : 0.33848, Testing Accuracy : 0.4148\n"
          ]
        },
        {
          "output_type": "stream",
          "name": "stderr",
          "text": [
            "\r  7%|▋         | 2/30 [01:15<17:35, 37.70s/it]"
          ]
        },
        {
          "output_type": "stream",
          "name": "stdout",
          "text": [
            "Training Loss : 0.0006461790466308594, Testing Loss : 0.0014862919807434082, Training Accuracy : 0.4204, Testing Accuracy : 0.4636\n"
          ]
        },
        {
          "output_type": "stream",
          "name": "stderr",
          "text": [
            "\r 10%|█         | 3/30 [01:52<16:53, 37.52s/it]"
          ]
        },
        {
          "output_type": "stream",
          "name": "stdout",
          "text": [
            "Training Loss : 0.00046424304962158205, Testing Loss : 0.0015334678649902343, Training Accuracy : 0.45958, Testing Accuracy : 0.5048\n"
          ]
        },
        {
          "output_type": "stream",
          "name": "stderr",
          "text": [
            "\r 13%|█▎        | 4/30 [02:30<16:15, 37.53s/it]"
          ]
        },
        {
          "output_type": "stream",
          "name": "stdout",
          "text": [
            "Training Loss : 0.0004321783447265625, Testing Loss : 0.001714019775390625, Training Accuracy : 0.50586, Testing Accuracy : 0.5281\n"
          ]
        },
        {
          "output_type": "stream",
          "name": "stderr",
          "text": [
            "\r 17%|█▋        | 5/30 [03:07<15:36, 37.45s/it]"
          ]
        },
        {
          "output_type": "stream",
          "name": "stdout",
          "text": [
            "Training Loss : 0.0005247460174560547, Testing Loss : 0.0017134153366088866, Training Accuracy : 0.54904, Testing Accuracy : 0.5671\n"
          ]
        },
        {
          "output_type": "stream",
          "name": "stderr",
          "text": [
            "\r 20%|██        | 6/30 [03:45<14:59, 37.47s/it]"
          ]
        },
        {
          "output_type": "stream",
          "name": "stdout",
          "text": [
            "Training Loss : 0.000535313720703125, Testing Loss : 0.0017350311279296874, Training Accuracy : 0.58768, Testing Accuracy : 0.6002\n"
          ]
        },
        {
          "output_type": "stream",
          "name": "stderr",
          "text": [
            "\r 23%|██▎       | 7/30 [04:22<14:20, 37.41s/it]"
          ]
        },
        {
          "output_type": "stream",
          "name": "stdout",
          "text": [
            "Training Loss : 0.000545429573059082, Testing Loss : 0.0021924041748046874, Training Accuracy : 0.6061, Testing Accuracy : 0.6223\n"
          ]
        },
        {
          "output_type": "stream",
          "name": "stderr",
          "text": [
            "\r 27%|██▋       | 8/30 [04:59<13:42, 37.39s/it]"
          ]
        },
        {
          "output_type": "stream",
          "name": "stdout",
          "text": [
            "Training Loss : 0.0002883005142211914, Testing Loss : 0.0018282840728759766, Training Accuracy : 0.64158, Testing Accuracy : 0.6482\n"
          ]
        },
        {
          "output_type": "stream",
          "name": "stderr",
          "text": [
            "\r 30%|███       | 9/30 [05:37<13:04, 37.35s/it]"
          ]
        },
        {
          "output_type": "stream",
          "name": "stdout",
          "text": [
            "Training Loss : 0.00017438884735107422, Testing Loss : 0.002238276290893555, Training Accuracy : 0.65556, Testing Accuracy : 0.6408\n"
          ]
        },
        {
          "output_type": "stream",
          "name": "stderr",
          "text": [
            "\r 33%|███▎      | 10/30 [06:14<12:26, 37.34s/it]"
          ]
        },
        {
          "output_type": "stream",
          "name": "stdout",
          "text": [
            "Training Loss : 0.00034697311401367186, Testing Loss : 0.0016193313598632812, Training Accuracy : 0.67024, Testing Accuracy : 0.6727\n"
          ]
        },
        {
          "output_type": "stream",
          "name": "stderr",
          "text": [
            "\r 37%|███▋      | 11/30 [06:51<11:49, 37.33s/it]"
          ]
        },
        {
          "output_type": "stream",
          "name": "stdout",
          "text": [
            "Training Loss : 0.0005800125885009766, Testing Loss : 0.0019743904113769532, Training Accuracy : 0.68792, Testing Accuracy : 0.6956\n"
          ]
        },
        {
          "output_type": "stream",
          "name": "stderr",
          "text": [
            "\r 40%|████      | 12/30 [07:28<11:11, 37.30s/it]"
          ]
        },
        {
          "output_type": "stream",
          "name": "stdout",
          "text": [
            "Training Loss : 0.0002855013465881348, Testing Loss : 0.001454323673248291, Training Accuracy : 0.71478, Testing Accuracy : 0.7129\n"
          ]
        },
        {
          "output_type": "stream",
          "name": "stderr",
          "text": [
            "\r 43%|████▎     | 13/30 [08:06<10:33, 37.27s/it]"
          ]
        },
        {
          "output_type": "stream",
          "name": "stdout",
          "text": [
            "Training Loss : 0.00035975807189941406, Testing Loss : 0.0010300694465637207, Training Accuracy : 0.72928, Testing Accuracy : 0.7127\n"
          ]
        },
        {
          "output_type": "stream",
          "name": "stderr",
          "text": [
            "\r 47%|████▋     | 14/30 [08:43<09:56, 37.26s/it]"
          ]
        },
        {
          "output_type": "stream",
          "name": "stdout",
          "text": [
            "Training Loss : 0.00013248950004577636, Testing Loss : 0.001110787296295166, Training Accuracy : 0.73922, Testing Accuracy : 0.7239\n"
          ]
        },
        {
          "output_type": "stream",
          "name": "stderr",
          "text": [
            "\r 50%|█████     | 15/30 [09:20<09:18, 37.25s/it]"
          ]
        },
        {
          "output_type": "stream",
          "name": "stdout",
          "text": [
            "Training Loss : 0.0003036781692504883, Testing Loss : 0.0014666494369506835, Training Accuracy : 0.75176, Testing Accuracy : 0.7417\n"
          ]
        },
        {
          "output_type": "stream",
          "name": "stderr",
          "text": [
            "\r 53%|█████▎    | 16/30 [09:57<08:41, 37.23s/it]"
          ]
        },
        {
          "output_type": "stream",
          "name": "stdout",
          "text": [
            "Training Loss : 0.00014828417778015138, Testing Loss : 0.0009170448303222656, Training Accuracy : 0.76496, Testing Accuracy : 0.7488\n"
          ]
        },
        {
          "output_type": "stream",
          "name": "stderr",
          "text": [
            "\r 57%|█████▋    | 17/30 [10:34<08:04, 37.23s/it]"
          ]
        },
        {
          "output_type": "stream",
          "name": "stdout",
          "text": [
            "Training Loss : 9.085978507995606e-05, Testing Loss : 0.0013026683807373046, Training Accuracy : 0.77132, Testing Accuracy : 0.7616\n"
          ]
        },
        {
          "output_type": "stream",
          "name": "stderr",
          "text": [
            "\r 60%|██████    | 18/30 [11:12<07:26, 37.24s/it]"
          ]
        },
        {
          "output_type": "stream",
          "name": "stdout",
          "text": [
            "Training Loss : 0.0002072037696838379, Testing Loss : 0.0015457345008850097, Training Accuracy : 0.78468, Testing Accuracy : 0.7647\n"
          ]
        },
        {
          "output_type": "stream",
          "name": "stderr",
          "text": [
            "\r 63%|██████▎   | 19/30 [11:49<06:49, 37.24s/it]"
          ]
        },
        {
          "output_type": "stream",
          "name": "stdout",
          "text": [
            "Training Loss : 0.00015190350532531737, Testing Loss : 0.0014920830726623535, Training Accuracy : 0.79104, Testing Accuracy : 0.7847\n"
          ]
        },
        {
          "output_type": "stream",
          "name": "stderr",
          "text": [
            "\r 67%|██████▋   | 20/30 [12:26<06:12, 37.23s/it]"
          ]
        },
        {
          "output_type": "stream",
          "name": "stdout",
          "text": [
            "Training Loss : 0.0002663117790222168, Testing Loss : 0.0009949713706970216, Training Accuracy : 0.80244, Testing Accuracy : 0.7753\n"
          ]
        },
        {
          "output_type": "stream",
          "name": "stderr",
          "text": [
            "\r 70%|███████   | 21/30 [13:03<05:34, 37.22s/it]"
          ]
        },
        {
          "output_type": "stream",
          "name": "stdout",
          "text": [
            "Training Loss : 0.00014393970489501954, Testing Loss : 0.0009393500328063965, Training Accuracy : 0.80388, Testing Accuracy : 0.7792\n"
          ]
        },
        {
          "output_type": "stream",
          "name": "stderr",
          "text": [
            "\r 73%|███████▎  | 22/30 [13:41<04:58, 37.27s/it]"
          ]
        },
        {
          "output_type": "stream",
          "name": "stdout",
          "text": [
            "Training Loss : 0.00031501142501831055, Testing Loss : 0.0008775022506713867, Training Accuracy : 0.80724, Testing Accuracy : 0.7937\n"
          ]
        },
        {
          "output_type": "stream",
          "name": "stderr",
          "text": [
            "\r 77%|███████▋  | 23/30 [14:18<04:20, 37.24s/it]"
          ]
        },
        {
          "output_type": "stream",
          "name": "stdout",
          "text": [
            "Training Loss : 0.0003225506591796875, Testing Loss : 0.001222251033782959, Training Accuracy : 0.81734, Testing Accuracy : 0.7853\n"
          ]
        },
        {
          "output_type": "stream",
          "name": "stderr",
          "text": [
            "\r 80%|████████  | 24/30 [14:55<03:43, 37.21s/it]"
          ]
        },
        {
          "output_type": "stream",
          "name": "stdout",
          "text": [
            "Training Loss : 0.0002862489891052246, Testing Loss : 0.0008974655151367187, Training Accuracy : 0.82026, Testing Accuracy : 0.7929\n"
          ]
        },
        {
          "output_type": "stream",
          "name": "stderr",
          "text": [
            "\r 83%|████████▎ | 25/30 [15:32<03:05, 37.20s/it]"
          ]
        },
        {
          "output_type": "stream",
          "name": "stdout",
          "text": [
            "Training Loss : 8.83213996887207e-05, Testing Loss : 0.0008375995635986328, Training Accuracy : 0.82444, Testing Accuracy : 0.8085\n"
          ]
        },
        {
          "output_type": "stream",
          "name": "stderr",
          "text": [
            "\r 87%|████████▋ | 26/30 [16:09<02:28, 37.20s/it]"
          ]
        },
        {
          "output_type": "stream",
          "name": "stdout",
          "text": [
            "Training Loss : 0.00035492431640625, Testing Loss : 0.0007195475578308106, Training Accuracy : 0.83198, Testing Accuracy : 0.8106\n"
          ]
        },
        {
          "output_type": "stream",
          "name": "stderr",
          "text": [
            "\r 90%|█████████ | 27/30 [16:47<01:51, 37.19s/it]"
          ]
        },
        {
          "output_type": "stream",
          "name": "stdout",
          "text": [
            "Training Loss : 0.0002964270782470703, Testing Loss : 0.0008711749076843262, Training Accuracy : 0.8359, Testing Accuracy : 0.8068\n"
          ]
        },
        {
          "output_type": "stream",
          "name": "stderr",
          "text": [
            "\r 93%|█████████▎| 28/30 [17:24<01:14, 37.17s/it]"
          ]
        },
        {
          "output_type": "stream",
          "name": "stdout",
          "text": [
            "Training Loss : 0.00012951539993286132, Testing Loss : 0.0013663233757019043, Training Accuracy : 0.83488, Testing Accuracy : 0.799\n"
          ]
        },
        {
          "output_type": "stream",
          "name": "stderr",
          "text": [
            "\r 97%|█████████▋| 29/30 [18:01<00:37, 37.18s/it]"
          ]
        },
        {
          "output_type": "stream",
          "name": "stdout",
          "text": [
            "Training Loss : 9.456218719482422e-05, Testing Loss : 0.0006064956188201905, Training Accuracy : 0.8366, Testing Accuracy : 0.8058\n"
          ]
        },
        {
          "output_type": "stream",
          "name": "stderr",
          "text": [
            "100%|██████████| 30/30 [18:38<00:00, 37.29s/it]"
          ]
        },
        {
          "output_type": "stream",
          "name": "stdout",
          "text": [
            "Training Loss : 0.0001528171443939209, Testing Loss : 0.0008010270118713378, Training Accuracy : 0.84598, Testing Accuracy : 0.8082\n"
          ]
        },
        {
          "output_type": "stream",
          "name": "stderr",
          "text": [
            "\n"
          ]
        }
      ]
    },
    {
      "cell_type": "code",
      "source": [
        "f, (ax1, ax2) = plt.subplots(1, 2, figsize=(20, 10))\n",
        "n = len(trainingLoss)\n",
        "ax1.plot(range(n), trainingLoss, '-', linewidth='3', label='Train Error')\n",
        "ax1.plot(range(n), testingLoss, '-', linewidth='3', label='Test Error')\n",
        "ax2.plot(range(n), trainingAccuracy, '-', linewidth='3', label='Train Accuracy')\n",
        "ax2.plot(range(n), testingAccuracy, '-', linewidth='3', label='Test Acuracy')\n",
        "ax1.grid(True)\n",
        "ax2.grid(True)\n",
        "ax1.legend()\n",
        "ax2.legend()\n",
        "f.savefig(\"./trainTestCurve.png\")"
      ],
      "metadata": {
        "colab": {
          "base_uri": "https://localhost:8080/",
          "height": 592
        },
        "id": "L90tkP5JhYqw",
        "outputId": "16f2f4d2-83b1-4cb5-a845-23c6954d81a0"
      },
      "execution_count": 22,
      "outputs": [
        {
          "output_type": "display_data",
          "data": {
            "text/plain": [
              "<Figure size 1440x720 with 2 Axes>"
            ],
            "image/png": "[encoded data removed]"
          },
          "metadata": {
            "needs_background": "light"
          }
        }
      ]
    }
  ]
}